{
 "cells": [
  {
   "cell_type": "code",
   "execution_count": null,
   "metadata": {},
   "outputs": [],
   "source": [
    "import os\n",
    "from src.tracking_data_message.tracking_data_message import *\n",
    "import pandas as pd\n",
    "\n",
    "# Desabilitando os Warnings\n",
    "pd.options.mode.chained_assignment = None  # default='warn'\n",
    "\n",
    "# Parâmetros\n",
    "fov_parameter = 2.0\n",
    "contour_threshold = 2.5\n",
    "\n",
    "images_directory = 'Dados\\\\Imagens-rastreio'\n",
    "output_path = 'Dados\\\\TDM\\\\Field-Of-View\\\\TDM-Saipher-20-25.txt'\n",
    "for folder in os.listdir(images_directory):\n",
    "    wcs = None\n",
    "    for number in range(1,11):\n",
    "        filename = f'{images_directory}\\\\{folder}\\\\Capture_{number}.fits'\n",
    "        print(f'Analisando imagem {filename}.')\n",
    "        if os.path.isfile(filename):\n",
    "            try:\n",
    "                if(wcs is None):\n",
    "                    wcs = get_wcs_from_fits(filename,fov_parameter=fov_parameter)\n",
    "                get_radec_from_fits(filename,output_path,wcs,contour_threshold=contour_threshold)\n",
    "                print(f'Imagem {filename} analisada com sucesso.')\n",
    "            except:\n",
    "                print(f'Erro ao processar a imagem: {filename}')\n",
    "                continue\n",
    "print('Análise de imagens finalizadas.')"
   ]
  },
  {
   "cell_type": "code",
   "execution_count": 1,
   "metadata": {},
   "outputs": [
    {
     "name": "stdout",
     "output_type": "stream",
     "text": [
      "Analisando imagem Dados\\Imagens-rastreio\\09-50-25\\Capture_1.fits.\n",
      "Imagem Dados\\Imagens-rastreio\\09-50-25\\Capture_1.fits analisada com sucesso.\n",
      "Analisando imagem Dados\\Imagens-rastreio\\09-50-56\\Capture_1.fits.\n",
      "Analisando imagem Dados\\Imagens-rastreio\\09-51-27\\Capture_1.fits.\n",
      "Imagem Dados\\Imagens-rastreio\\09-51-27\\Capture_1.fits analisada com sucesso.\n",
      "Analisando imagem Dados\\Imagens-rastreio\\09-51-58\\Capture_1.fits.\n",
      "Imagem Dados\\Imagens-rastreio\\09-51-58\\Capture_1.fits analisada com sucesso.\n",
      "Analisando imagem Dados\\Imagens-rastreio\\09-52-30\\Capture_1.fits.\n",
      "Imagem Dados\\Imagens-rastreio\\09-52-30\\Capture_1.fits analisada com sucesso.\n",
      "Analisando imagem Dados\\Imagens-rastreio\\09-53-01\\Capture_1.fits.\n",
      "Imagem Dados\\Imagens-rastreio\\09-53-01\\Capture_1.fits analisada com sucesso.\n",
      "Analisando imagem Dados\\Imagens-rastreio\\09-53-32\\Capture_1.fits.\n",
      "Erro ao processar a imagem: Dados\\Imagens-rastreio\\09-53-32\\Capture_1.fits\n",
      "Analisando imagem Dados\\Imagens-rastreio\\09-54-03\\Capture_1.fits.\n",
      "Erro ao processar a imagem: Dados\\Imagens-rastreio\\09-54-03\\Capture_1.fits\n",
      "Análise de imagens finalizadas.\n"
     ]
    }
   ],
   "source": [
    "import os\n",
    "from src.tracking_data_message.tracking_data_message import *\n",
    "import pandas as pd\n",
    "\n",
    "# Desabilitando os Warnings\n",
    "pd.options.mode.chained_assignment = None  # default='warn'\n",
    "\n",
    "# Parâmetros\n",
    "fov_parameter = 2.0\n",
    "contour_threshold = 2.5\n",
    "\n",
    "images_directory = 'Dados\\\\Imagens-rastreio'\n",
    "# output_path = 'Dados\\\\TDM\\\\Field-Of-View\\\\TDM-Saipher-20-25.txt'\n",
    "output_path = 'Dados\\\\Teste.txt'\n",
    "for folder in os.listdir(images_directory):\n",
    "    wcs = None\n",
    "    for number in range(1,2):\n",
    "        filename = f'{images_directory}\\\\{folder}\\\\Capture_{number}.fits'\n",
    "        print(f'Analisando imagem {filename}.')\n",
    "        if os.path.isfile(filename):\n",
    "            try:\n",
    "                if(wcs is None):\n",
    "                    wcs = get_wcs_from_fits(filename,fov_parameter=fov_parameter)\n",
    "                get_radec_from_fits(filename,output_path,wcs,contour_threshold=contour_threshold)\n",
    "                print(f'Imagem {filename} analisada com sucesso.')\n",
    "            except:\n",
    "                print(f'Erro ao processar a imagem: {filename}')\n",
    "                continue\n",
    "print('Análise de imagens finalizadas.')"
   ]
  }
 ],
 "metadata": {
  "kernelspec": {
   "display_name": ".venv",
   "language": "python",
   "name": "python3"
  },
  "language_info": {
   "codemirror_mode": {
    "name": "ipython",
    "version": 3
   },
   "file_extension": ".py",
   "mimetype": "text/x-python",
   "name": "python",
   "nbconvert_exporter": "python",
   "pygments_lexer": "ipython3",
   "version": "3.12.3"
  }
 },
 "nbformat": 4,
 "nbformat_minor": 2
}
