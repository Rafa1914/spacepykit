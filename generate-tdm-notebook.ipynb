{
 "cells": [
  {
   "cell_type": "code",
   "execution_count": null,
   "metadata": {},
   "outputs": [],
   "source": [
    "import os\n",
    "from src.tracking_data_message.tracking_data_message import *\n",
    "\n",
    "images_directory = 'Dados\\\\Imagens-rastreio'\n",
    "output_path = 'Dados\\\\TDM-Saipher.txt'\n",
    "for folder in os.listdir(images_directory):\n",
    "    wcs = None\n",
    "    for number in range(1,11):\n",
    "        filename = f'{images_directory}\\\\{folder}\\\\Capture_{number}.fits'\n",
    "        print(f'Analisando imagem {filename}.')\n",
    "        if os.path.isfile(filename):\n",
    "            try:\n",
    "                if(wcs is None):\n",
    "                    wcs = get_wcs_from_fits(filename)\n",
    "                get_radec_from_fits(filename,output_path,wcs)\n",
    "                print(f'Imagem {filename} analisada com sucesso.')\n",
    "            except:\n",
    "                print(f'Erro ao processar a imagem: {filename}')\n",
    "                continue\n",
    "print('Análise de imagens finalizadas.')"
   ]
  }
 ],
 "metadata": {
  "language_info": {
   "name": "python"
  }
 },
 "nbformat": 4,
 "nbformat_minor": 2
}
