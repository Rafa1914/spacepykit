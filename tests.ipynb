{
 "cells": [
  {
   "cell_type": "code",
   "execution_count": 1,
   "metadata": {},
   "outputs": [
    {
     "name": "stdout",
     "output_type": "stream",
     "text": [
      "RA = 198.38370037548617\n",
      "DEC = 33.12454287112769\n"
     ]
    }
   ],
   "source": [
    "from src.common.vector import *\n",
    "from src.common.reference_frame import *\n",
    "\n",
    "r = Vector(-5368,-1784,3691)\n",
    "(ra,dec) = radec_from_r(r)\n",
    "\n",
    "print(f'RA = {np.rad2deg(ra)}\\nDEC = {np.rad2deg(dec)}')"
   ]
  },
  {
   "cell_type": "code",
   "execution_count": 2,
   "metadata": {},
   "outputs": [
    {
     "name": "stdout",
     "output_type": "stream",
     "text": [
      "JD_1 = 2453138.1149305557 dias\n",
      "JD_2 = 2436116.31 dias\n",
      "Diferença = 17021.804930555634 dias\n"
     ]
    }
   ],
   "source": [
    "from src.common.vector import *\n",
    "from src.common.reference_frame import *\n",
    "from src.common.time import *\n",
    "from datetime import datetime\n",
    "\n",
    "date_1 = datetime(2004,5,12,14,45,30)\n",
    "jd_1 = julian_day(date_1)\n",
    "date_2 = datetime(1957,10,4,19,26,24)\n",
    "jd_2 = julian_day(date_2)\n",
    "print(f'JD_1 = {jd_1} dias\\nJD_2 = {jd_2} dias')\n",
    "print(f'Diferença = {jd_1 - jd_2} dias')\n"
   ]
  },
  {
   "cell_type": "code",
   "execution_count": 3,
   "metadata": {},
   "outputs": [
    {
     "data": {
      "text/plain": [
       "8.593542535242534"
      ]
     },
     "execution_count": 3,
     "metadata": {},
     "output_type": "execute_result"
    }
   ],
   "source": [
    "from src.common.vector import *\n",
    "from src.common.time import *\n",
    "from datetime import datetime\n",
    "\n",
    "theta = sidereal_time(date=datetime(2004,3,3,4,30,0),longitude=139.8)\n",
    "theta"
   ]
  },
  {
   "cell_type": "code",
   "execution_count": 4,
   "metadata": {},
   "outputs": [
    {
     "name": "stdout",
     "output_type": "stream",
     "text": [
      "r = -5959.0I + (-700.1)J + (2155.0)K\n",
      "RA = 298.6°\n",
      "DEC = 51.21°\n"
     ]
    }
   ],
   "source": [
    "# from src.common.vector import *\n",
    "# from src.common.reference_frame import *\n",
    "# import math\n",
    "\n",
    "# r = Vector(x=-5368,y=-1784,z=3691)\n",
    "# r_o = get_topocentric_origin(60,20,0,theta_g=126.7)\n",
    "# print(f'r = {round(r_o.x,0)}I + ({round(r_o.y,1)})J + ({round(r_o.z,0)})K')\n",
    "# rho = r-r_o\n",
    "# ra,dec = radec_from_r(rho)\n",
    "# print(f'RA = {round(np.rad2deg(ra),1)}°\\nDEC = {round(np.rad2deg(dec),2)}°')"
   ]
  },
  {
   "cell_type": "code",
   "execution_count": 33,
   "metadata": {},
   "outputs": [
    {
     "name": "stdout",
     "output_type": "stream",
     "text": [
      "r = 1879.0I + (-5179.8)J + (-3206.0)K\n",
      "RA = 213.5°\n",
      "DEC = -47.45°\n"
     ]
    }
   ],
   "source": [
    "# Observatório da Aldoria\n",
    "lat = -30.5262693\n",
    "lon = -70.8531799\n",
    "alt = 2180e-3\n",
    "date = datetime(2023,4,25,9,50,32)\n",
    "r_origin = get_topocentric_origin(latitude=lat,longitude=lon,altitude=alt,date=date)\n",
    "\n",
    "ra_object = np.deg2rad(204.6559)\n",
    "dec_object = np.deg2rad(-45.703182)\n",
    "\n",
    "rho = Vector(x = 50000*np.cos(dec_object)*np.cos(ra_object),y=50000*np.cos(dec_object)*np.sin(ra_object),z = 50000*np.sin(dec_object))\n",
    "\n",
    "r_obj = r_origin + rho\n",
    "\n",
    "ra,dec = radec_from_r(r_obj)\n",
    "\n",
    "\n",
    "print(f'r = {round(r_origin.x,0)}I + ({round(r_origin.y,1)})J + ({round(r_origin.z,0)})K')\n",
    "print(f'RA = {round(np.rad2deg(ra),1)}°\\nDEC = {round(np.rad2deg(dec),2)}°')"
   ]
  },
  {
   "cell_type": "code",
   "execution_count": 27,
   "metadata": {},
   "outputs": [
    {
     "name": "stdout",
     "output_type": "stream",
     "text": [
      "x = 1879.0831301397955\n",
      "y = -5179.750714959119\n",
      "z = -3205.7270852487895\n",
      "Magnitude = 6374.751526466987\n",
      "Theta_x = 72.85627627903577\n",
      "Theta_y = 144.34499973606847\n",
      "Theta_z = 120.19064009272486\n"
     ]
    }
   ],
   "source": [
    "print(r_origin)"
   ]
  }
 ],
 "metadata": {
  "kernelspec": {
   "display_name": ".venv",
   "language": "python",
   "name": "python3"
  },
  "language_info": {
   "codemirror_mode": {
    "name": "ipython",
    "version": 3
   },
   "file_extension": ".py",
   "mimetype": "text/x-python",
   "name": "python",
   "nbconvert_exporter": "python",
   "pygments_lexer": "ipython3",
   "version": "3.12.3"
  }
 },
 "nbformat": 4,
 "nbformat_minor": 2
}
