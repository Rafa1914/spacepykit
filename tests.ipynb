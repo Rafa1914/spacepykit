{
 "cells": [
  {
   "cell_type": "code",
   "execution_count": 1,
   "metadata": {},
   "outputs": [],
   "source": [
    "from src.common.vector import *\n",
    "from src.common.reference_frame import *\n",
    "from src.common.time import *\n",
    "from datetime import datetime"
   ]
  },
  {
   "cell_type": "code",
   "execution_count": 1,
   "metadata": {},
   "outputs": [
    {
     "name": "stdout",
     "output_type": "stream",
     "text": [
      "RA = 198.38370037548617\n",
      "DEC = 33.12454287112769\n"
     ]
    }
   ],
   "source": [
    "from src.common.vector import *\n",
    "from src.common.reference_frame import *\n",
    "\n",
    "r = Vector(-5368,-1784,3691)\n",
    "(ra,dec) = radec_from_r(r)\n",
    "\n",
    "print(f'RA = {np.rad2deg(ra)}\\nDEC = {np.rad2deg(dec)}')"
   ]
  },
  {
   "cell_type": "code",
   "execution_count": 2,
   "metadata": {},
   "outputs": [
    {
     "name": "stdout",
     "output_type": "stream",
     "text": [
      "JD_1 = 2453138.1149305557 dias\n",
      "JD_2 = 2436116.31 dias\n",
      "Diferença = 17021.804930555634 dias\n"
     ]
    }
   ],
   "source": [
    "\n",
    "\n",
    "date_1 = datetime(2004,5,12,14,45,30)\n",
    "jd_1 = julian_day(date_1)\n",
    "date_2 = datetime(1957,10,4,19,26,24)\n",
    "jd_2 = julian_day(date_2)\n",
    "print(f'JD_1 = {jd_1} dias\\nJD_2 = {jd_2} dias')\n",
    "print(f'Diferença = {jd_1 - jd_2} dias')\n"
   ]
  },
  {
   "cell_type": "code",
   "execution_count": 3,
   "metadata": {},
   "outputs": [
    {
     "data": {
      "text/plain": [
       "8.593542535242534"
      ]
     },
     "execution_count": 3,
     "metadata": {},
     "output_type": "execute_result"
    }
   ],
   "source": [
    "from src.common.vector import *\n",
    "from src.common.time import *\n",
    "from datetime import datetime\n",
    "\n",
    "theta = sidereal_time(date=datetime(2004,3,3,4,30,0),longitude=139.8)\n",
    "theta"
   ]
  },
  {
   "cell_type": "code",
   "execution_count": 2,
   "metadata": {},
   "outputs": [
    {
     "name": "stdout",
     "output_type": "stream",
     "text": [
      "r = -5955.0I + (-699.5)J + (2168.0)K\n",
      "RA = 298.4°\n",
      "DEC = 51.01°\n"
     ]
    }
   ],
   "source": [
    "#Exemplo 5.7 - Curtis\n",
    "\n",
    "from src.common.vector import *\n",
    "from src.common.reference_frame import *\n",
    "\n",
    "#Cálculos\n",
    "r = Vector(x=-5368,y=-1784,z=3691)\n",
    "alt = 0\n",
    "lat = 20\n",
    "lon = 60\n",
    "r_o = get_topocentric_origin(longitude = 60,latitude = 20,altitude = 0,theta_g=126.7, is_geocentric_latitude=False)\n",
    "rho = r-r_o\n",
    "ra,dec = radec_from_r(rho)\n",
    "\n",
    "#Resultados\n",
    "print(f'r = {round(r_o.x,0)}I + ({round(r_o.y,1)})J + ({round(r_o.z,0)})K')\n",
    "print(f'RA = {round(np.rad2deg(ra),1)}°\\nDEC = {round(np.rad2deg(dec),2)}°')"
   ]
  },
  {
   "cell_type": "code",
   "execution_count": 7,
   "metadata": {},
   "outputs": [
    {
     "name": "stdout",
     "output_type": "stream",
     "text": [
      "r = 1879.0I + (-5179.8)J + (-3206.0)K\n",
      "RA = 24.7°\n",
      "DEC = 45.7°\n"
     ]
    }
   ],
   "source": [
    "# Observatório da Aldoria\n",
    "lat = -30.5262693\n",
    "lon = -70.8531799\n",
    "alt = 2180e-3\n",
    "date = datetime(2023,4,25,9,50,32)\n",
    "r_origin = get_topocentric_origin(latitude=lat,longitude=lon,altitude=alt,date=date)\n",
    "\n",
    "ra_object = np.deg2rad(204.6559)\n",
    "dec_object = np.deg2rad(-45.703182)\n",
    "\n",
    "r_obj = Vector(x = 1e10*np.cos(dec_object)*np.cos(ra_object),y=1e10*np.cos(dec_object)*np.sin(ra_object),z = 1e10*np.sin(dec_object))\n",
    "\n",
    "rho = r_origin - r_obj\n",
    "\n",
    "ra,dec = radec_from_r(rho)\n",
    "\n",
    "\n",
    "print(f'r = {round(r_origin.x,0)}I + ({round(r_origin.y,1)})J + ({round(r_origin.z,0)})K')\n",
    "print(f'RA = {round(np.rad2deg(ra),1)}°\\nDEC = {round(np.rad2deg(dec),2)}°')"
   ]
  },
  {
   "cell_type": "code",
   "execution_count": 2,
   "metadata": {},
   "outputs": [
    {
     "name": "stdout",
     "output_type": "stream",
     "text": [
      "Origens das observações:\n",
      "R1 = 3489.8I + (3430.2)J + (4078.5)K\n",
      "R2 = 3460.1I + (3460.1)J + (4078.5)K\n",
      "R3 = 3429.9I + (3490.1)J + (4078.5)K\n",
      "-----------------\n",
      "Rhos:\n",
      "versor_rho1 = 0.71643I + (0.68074)J + (-0.1527)K\n",
      "versor_rho2 = 0.56897I + (0.79531)J + (-0.20917)K\n",
      "versor_rho3 = 0.4184I + (0.87008)J + (-0.26059)K\n",
      "-----------------\n",
      "Intervalos temporais:\n",
      "tau_1 = -118.1\n",
      "tau_3 = 119.48000000000002\n",
      "tau = 237.58\n"
     ]
    }
   ],
   "source": [
    "# Exemplo 5.11 - Curtis\n",
    "\n",
    "from src.common.vector import *\n",
    "from src.common.reference_frame import *\n",
    "\n",
    "#Parâmetros de entrada:\n",
    "lat = 40\n",
    "alt = 1\n",
    "local_sidereal_times = [44.506,45,45.499]\n",
    "RAs = [43.537,54.420,64.318]\n",
    "DECs = [-8.7833,-12.074,-15.105]\n",
    "times = [0,118.10,237.58]\n",
    "\n",
    "#Origens dos referências topocêntricos\n",
    "R1 = get_topocentric_origin(latitude=lat,altitude=alt,theta=local_sidereal_times[0],is_geocentric_latitude=False)\n",
    "R2 = get_topocentric_origin(latitude=lat,altitude=alt,theta=local_sidereal_times[1],is_geocentric_latitude=False)\n",
    "R3 = get_topocentric_origin(latitude=lat,altitude=alt,theta=local_sidereal_times[2],is_geocentric_latitude=False)\n",
    "\n",
    "#Posições relativas (rhos)\n",
    "versor_rho1 = versor_from_radec(ra = RAs[0], dec = DECs[0])\n",
    "versor_rho2 = versor_from_radec(ra = RAs[1], dec = DECs[1])\n",
    "versor_rho3 = versor_from_radec(ra = RAs[2], dec = DECs[2])\n",
    "\n",
    "#Intervalos de tempo\n",
    "tau_1 = times[0]-times[1]\n",
    "tau_3 = times[2]-times[1]\n",
    "tau = times[2]-times[0]\n",
    "\n",
    "#Cálculo dos produtos vetoriais:\n",
    "p1 = cross_product(versor_rho2,versor_rho3)\n",
    "p2 = cross_product(versor_rho1,versor_rho3)\n",
    "p3 = cross_product(versor_rho1,versor_rho2)\n",
    "\n",
    "#Constante D0:\n",
    "D0 = dot_product(versor_rho1,p1)\n",
    "\n",
    "#Constantes Ds:\n",
    "D11 = dot_product(R1,p1)\n",
    "D12 = dot_product(R1,p2)\n",
    "D13 = dot_product(R1,p3)\n",
    "D21 = dot_product(R2,p1)\n",
    "D22 = dot_product(R2,p2)\n",
    "D23 = dot_product(R2,p3)\n",
    "D31 = dot_product(R3,p1)\n",
    "D32 = dot_product(R3,p2)\n",
    "D33 = dot_product(R3,p3)\n",
    "\n",
    "#Constantes A e B:\n",
    "A = 1/D0*(-D12*(tau_3/tau)+D22+D32*(tau_1/tau))\n",
    "B = (1/(6*D0))*(D12*(tau_3**2 - tau**2)*tau_3/tau + D32*(tau**2-tau_1**2)*tau_1/tau)\n",
    "\n",
    "#Constante E:\n",
    "E = dot_product(R2,versor_rho2)\n",
    "\n",
    "#Coeficientes polinomiais:\n",
    "a = -(A**2 + 2*A*E + R2.magnitude**2)\n",
    "b = -2*EARTH_GRAVITATIONAL_PARAMETER*B*(A+E)\n",
    "c = -(EARTH_GRAVITATIONAL_PARAMETER*B)**2\n",
    "\n",
    "\n",
    "#Resultados:\n",
    "print('Origens das observações:')\n",
    "print(f'R1 = {round(R1.x,1)}I + ({round(R1.y,1)})J + ({round(R1.z,1)})K')\n",
    "print(f'R2 = {round(R2.x,1)}I + ({round(R2.y,1)})J + ({round(R2.z,1)})K')\n",
    "print(f'R3 = {round(R3.x,1)}I + ({round(R3.y,1)})J + ({round(R3.z,1)})K')\n",
    "print('-----------------')\n",
    "print('Rhos:')\n",
    "print(f'versor_rho1 = {round(versor_rho1.x,5)}I + ({round(versor_rho1.y,5)})J + ({round(versor_rho1.z,5)})K')\n",
    "print(f'versor_rho2 = {round(versor_rho2.x,5)}I + ({round(versor_rho2.y,5)})J + ({round(versor_rho2.z,5)})K')\n",
    "print(f'versor_rho3 = {round(versor_rho3.x,5)}I + ({round(versor_rho3.y,5)})J + ({round(versor_rho3.z,5)})K')\n",
    "print('-----------------')\n",
    "print('Intervalos temporais:')\n",
    "print(f'tau_1 = {tau_1}')\n",
    "print(f'tau_3 = {tau_3}')\n",
    "print(f'tau = {tau}')"
   ]
  }
 ],
 "metadata": {
  "kernelspec": {
   "display_name": ".venv",
   "language": "python",
   "name": "python3"
  },
  "language_info": {
   "codemirror_mode": {
    "name": "ipython",
    "version": 3
   },
   "file_extension": ".py",
   "mimetype": "text/x-python",
   "name": "python",
   "nbconvert_exporter": "python",
   "pygments_lexer": "ipython3",
   "version": "3.12.3"
  }
 },
 "nbformat": 4,
 "nbformat_minor": 2
}
