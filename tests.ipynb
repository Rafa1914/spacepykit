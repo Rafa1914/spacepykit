{
 "cells": [
  {
   "cell_type": "code",
   "execution_count": 1,
   "metadata": {},
   "outputs": [
    {
     "name": "stdout",
     "output_type": "stream",
     "text": [
      "RA = 198.38370037548617\n",
      "DEC = 33.12454287112769\n"
     ]
    }
   ],
   "source": [
    "from src.common.vector import *\n",
    "from src.common.reference_frame import *\n",
    "\n",
    "r = Vector(-5368,-1784,3691)\n",
    "(ra,dec) = radec_from_r(r)\n",
    "\n",
    "print(f'RA = {np.rad2deg(ra)}\\nDEC = {np.rad2deg(dec)}')"
   ]
  },
  {
   "cell_type": "code",
   "execution_count": 2,
   "metadata": {},
   "outputs": [
    {
     "name": "stdout",
     "output_type": "stream",
     "text": [
      "JD_1 = 2453138.1149305557 dias\n",
      "JD_2 = 2436116.31 dias\n",
      "Diferença = 17021.804930555634 dias\n"
     ]
    }
   ],
   "source": [
    "from src.common.vector import *\n",
    "from src.common.reference_frame import *\n",
    "from src.common.time import *\n",
    "from datetime import datetime\n",
    "\n",
    "date_1 = datetime(2004,5,12,14,45,30)\n",
    "jd_1 = julian_day(date_1)\n",
    "date_2 = datetime(1957,10,4,19,26,24)\n",
    "jd_2 = julian_day(date_2)\n",
    "print(f'JD_1 = {jd_1} dias\\nJD_2 = {jd_2} dias')\n",
    "print(f'Diferença = {jd_1 - jd_2} dias')\n"
   ]
  },
  {
   "cell_type": "code",
   "execution_count": 3,
   "metadata": {},
   "outputs": [
    {
     "data": {
      "text/plain": [
       "8.593542535242534"
      ]
     },
     "execution_count": 3,
     "metadata": {},
     "output_type": "execute_result"
    }
   ],
   "source": [
    "from src.common.vector import *\n",
    "from src.common.time import *\n",
    "from datetime import datetime\n",
    "\n",
    "theta = sidereal_time(date=datetime(2004,3,3,4,30,0),longitude=139.8)\n",
    "theta"
   ]
  }
 ],
 "metadata": {
  "kernelspec": {
   "display_name": ".venv",
   "language": "python",
   "name": "python3"
  },
  "language_info": {
   "codemirror_mode": {
    "name": "ipython",
    "version": 3
   },
   "file_extension": ".py",
   "mimetype": "text/x-python",
   "name": "python",
   "nbconvert_exporter": "python",
   "pygments_lexer": "ipython3",
   "version": "3.12.3"
  }
 },
 "nbformat": 4,
 "nbformat_minor": 2
}
