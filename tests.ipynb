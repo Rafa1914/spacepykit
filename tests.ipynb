{
 "cells": [
  {
   "cell_type": "code",
   "execution_count": 1,
   "metadata": {},
   "outputs": [],
   "source": [
    "from src.common.vector import *\n",
    "from src.common.reference_frame import *\n",
    "from src.common.time import *\n",
    "from datetime import datetime"
   ]
  },
  {
   "cell_type": "code",
   "execution_count": 1,
   "metadata": {},
   "outputs": [
    {
     "name": "stdout",
     "output_type": "stream",
     "text": [
      "RA = 198.38370037548617\n",
      "DEC = 33.12454287112769\n"
     ]
    }
   ],
   "source": [
    "from src.common.vector import *\n",
    "from src.common.reference_frame import *\n",
    "\n",
    "r = Vector(-5368,-1784,3691)\n",
    "(ra,dec) = radec_from_r(r)\n",
    "\n",
    "print(f'RA = {np.rad2deg(ra)}\\nDEC = {np.rad2deg(dec)}')"
   ]
  },
  {
   "cell_type": "code",
   "execution_count": 2,
   "metadata": {},
   "outputs": [
    {
     "name": "stdout",
     "output_type": "stream",
     "text": [
      "JD_1 = 2453138.1149305557 dias\n",
      "JD_2 = 2436116.31 dias\n",
      "Diferença = 17021.804930555634 dias\n"
     ]
    }
   ],
   "source": [
    "\n",
    "\n",
    "date_1 = datetime(2004,5,12,14,45,30)\n",
    "jd_1 = julian_day(date_1)\n",
    "date_2 = datetime(1957,10,4,19,26,24)\n",
    "jd_2 = julian_day(date_2)\n",
    "print(f'JD_1 = {jd_1} dias\\nJD_2 = {jd_2} dias')\n",
    "print(f'Diferença = {jd_1 - jd_2} dias')\n"
   ]
  },
  {
   "cell_type": "code",
   "execution_count": 3,
   "metadata": {},
   "outputs": [
    {
     "data": {
      "text/plain": [
       "8.593542535242534"
      ]
     },
     "execution_count": 3,
     "metadata": {},
     "output_type": "execute_result"
    }
   ],
   "source": [
    "from src.common.vector import *\n",
    "from src.common.time import *\n",
    "from datetime import datetime\n",
    "\n",
    "theta = sidereal_time(date=datetime(2004,3,3,4,30,0),longitude=139.8)\n",
    "theta"
   ]
  },
  {
   "cell_type": "code",
   "execution_count": 2,
   "metadata": {},
   "outputs": [
    {
     "name": "stdout",
     "output_type": "stream",
     "text": [
      "r = -5955.0I + (-699.5)J + (2168.0)K\n",
      "RA = 298.4°\n",
      "DEC = 51.01°\n"
     ]
    }
   ],
   "source": [
    "#Exemplo 5.7 - Curtis\n",
    "\n",
    "from src.common.vector import *\n",
    "from src.common.reference_frame import *\n",
    "\n",
    "#Cálculos\n",
    "r = Vector(x=-5368,y=-1784,z=3691)\n",
    "alt = 0\n",
    "lat = 20\n",
    "lon = 60\n",
    "r_o = get_topocentric_origin(longitude = 60,latitude = 20,altitude = 0,theta_g=126.7, is_geocentric_latitude=False)\n",
    "rho = r-r_o\n",
    "ra,dec = radec_from_r(rho)\n",
    "\n",
    "#Resultados\n",
    "print(f'r = {round(r_o.x,0)}I + ({round(r_o.y,1)})J + ({round(r_o.z,0)})K')\n",
    "print(f'RA = {round(np.rad2deg(ra),1)}°\\nDEC = {round(np.rad2deg(dec),2)}°')"
   ]
  },
  {
   "cell_type": "code",
   "execution_count": 7,
   "metadata": {},
   "outputs": [
    {
     "name": "stdout",
     "output_type": "stream",
     "text": [
      "r = 1879.0I + (-5179.8)J + (-3206.0)K\n",
      "RA = 24.7°\n",
      "DEC = 45.7°\n"
     ]
    }
   ],
   "source": [
    "# Observatório da Aldoria\n",
    "lat = -30.5262693\n",
    "lon = -70.8531799\n",
    "alt = 2180e-3\n",
    "date = datetime(2023,4,25,9,50,32)\n",
    "r_origin = get_topocentric_origin(latitude=lat,longitude=lon,altitude=alt,date=date)\n",
    "\n",
    "ra_object = np.deg2rad(204.6559)\n",
    "dec_object = np.deg2rad(-45.703182)\n",
    "\n",
    "r_obj = Vector(x = 1e10*np.cos(dec_object)*np.cos(ra_object),y=1e10*np.cos(dec_object)*np.sin(ra_object),z = 1e10*np.sin(dec_object))\n",
    "\n",
    "rho = r_origin - r_obj\n",
    "\n",
    "ra,dec = radec_from_r(rho)\n",
    "\n",
    "\n",
    "print(f'r = {round(r_origin.x,0)}I + ({round(r_origin.y,1)})J + ({round(r_origin.z,0)})K')\n",
    "print(f'RA = {round(np.rad2deg(ra),1)}°\\nDEC = {round(np.rad2deg(dec),2)}°')"
   ]
  },
  {
   "cell_type": "code",
   "execution_count": 8,
   "metadata": {},
   "outputs": [
    {
     "name": "stdout",
     "output_type": "stream",
     "text": [
      "Origens das observações:\n",
      "R1 = 3489.8I + (3430.2)J + (4078.5)K\n",
      "R2 = 3460.1I + (3460.1)J + (4078.5)K\n",
      "R3 = 3429.9I + (3490.1)J + (4078.5)K\n",
      "-----------------\n",
      "Versores rhos:\n",
      "versor_rho1 = 0.71643I + (0.68074)J + (-0.1527)K\n",
      "versor_rho2 = 0.56897I + (0.79531)J + (-0.20917)K\n",
      "versor_rho3 = 0.4184I + (0.87008)J + (-0.26059)K\n",
      "-----------------\n",
      "Intervalos temporais:\n",
      "tau_1 = -118.1\n",
      "tau_3 = 119.48000000000002\n",
      "tau = 237.58\n",
      "-----------------\n",
      "Produtos vetoriais:\n",
      "p1 = -0.025251I + (0.060747)J + (0.162285)K\n",
      "p2 = -0.044536I + (0.122804)J + (0.338522)K\n",
      "p3 = -0.020952I + (0.062979)J + (0.182462)K\n",
      "-----------------\n",
      "Constantes (Ds):\n",
      "D0 = -0.0015178807153869954\n",
      "D11 = 782.1342298696927     D12 = 1646.490450136214     D13 = 887.0871432593711\n",
      "D21 = 784.7043631501966     D22 = 1651.4927060471437     D23 = 889.596431802398\n",
      "D31 = 787.2912400554336     D32 = 1656.5251522481512     D33 = 892.1201428189596\n",
      "-----------------\n",
      "Constantes A e B:\n",
      "A = -9.255331042798277\n",
      "B = 7676363777.219512\n",
      "-----------------\n",
      "Constantes E e módulo ao quadrado de R2:\n",
      "E = 3867.4643438709813\n",
      "R_2^2 = 40579544.26321867\n",
      "-----------------\n",
      "Coeficientes do polinômio (r2^8 + a(r2)^6 + b(r2)^3 + c = 0):\n",
      "a = -4.0508e+7\n",
      "b = -2.3610685084262048e+19\n",
      "c = -9.362367482351465e+30\n",
      "-----------------\n",
      "valor de r2:\n",
      "r2 = 9242.7\n",
      "-----------------\n",
      "Módulos de rhos:\n",
      "rho_1 = 3639.8\n",
      "rho_2 = 3865.9\n",
      "rho_3 = 4174.5\n",
      "-----------------\n",
      "Vetores posição no Ref. Inercial:\n",
      "r1 = 6097.5I + (5907.9)J + (3522.8)K\n",
      "r2 = 5659.7I + (6534.8)J + (3269.9)K\n",
      "r3 = 5176.5I + (7122.3)J + (2990.7)K\n",
      "-----------------\n",
      "Coeficientes de Lagrange:\n",
      "f1 = 0.99648      g1 = -117.96141\n",
      "f3 = 0.9964      g3 = 119.33649\n",
      "-----------------\n",
      "Velocidade (v2):\n",
      "v2 = -3.8791I + (5.1197)J + (-2.2409)K\n"
     ]
    }
   ],
   "source": [
    "# Exemplo 5.11 - Curtis\n",
    "\n",
    "from src.common.vector import *\n",
    "from src.common.reference_frame import *\n",
    "from src.common.constants import EARTH_GRAVITATIONAL_PARAMETER\n",
    "\n",
    "import numpy.polynomial.polynomial as poly\n",
    "\n",
    "#Parâmetros de entrada:\n",
    "lat = 40\n",
    "alt = 1\n",
    "local_sidereal_times = [44.506,45,45.499]\n",
    "RAs = [43.537,54.420,64.318]\n",
    "DECs = [-8.7833,-12.074,-15.105]\n",
    "times = [0,118.10,237.58]\n",
    "\n",
    "#Origens dos referências topocêntricos\n",
    "R1 = get_topocentric_origin(latitude=lat,altitude=alt,theta=local_sidereal_times[0],is_geocentric_latitude=False)\n",
    "R2 = get_topocentric_origin(latitude=lat,altitude=alt,theta=local_sidereal_times[1],is_geocentric_latitude=False)\n",
    "R3 = get_topocentric_origin(latitude=lat,altitude=alt,theta=local_sidereal_times[2],is_geocentric_latitude=False)\n",
    "\n",
    "#Posições relativas (rhos)\n",
    "versor_rho1 = versor_from_radec(ra = RAs[0], dec = DECs[0])\n",
    "versor_rho2 = versor_from_radec(ra = RAs[1], dec = DECs[1])\n",
    "versor_rho3 = versor_from_radec(ra = RAs[2], dec = DECs[2])\n",
    "\n",
    "#Intervalos de tempo\n",
    "tau_1 = times[0]-times[1]\n",
    "tau_3 = times[2]-times[1]\n",
    "tau = times[2]-times[0]\n",
    "\n",
    "#Cálculo dos produtos vetoriais:\n",
    "p1 = cross_product(versor_rho2,versor_rho3)\n",
    "p2 = cross_product(versor_rho1,versor_rho3)\n",
    "p3 = cross_product(versor_rho1,versor_rho2)\n",
    "\n",
    "#Constante D0:\n",
    "D0 = dot_product(versor_rho1,p1)\n",
    "\n",
    "#Constantes Ds:\n",
    "D11 = dot_product(R1,p1)\n",
    "D12 = dot_product(R1,p2)\n",
    "D13 = dot_product(R1,p3)\n",
    "D21 = dot_product(R2,p1)\n",
    "D22 = dot_product(R2,p2)\n",
    "D23 = dot_product(R2,p3)\n",
    "D31 = dot_product(R3,p1)\n",
    "D32 = dot_product(R3,p2)\n",
    "D33 = dot_product(R3,p3)\n",
    "\n",
    "#Constantes A e B:\n",
    "A = (-D12*(tau_3/tau) + D22 + D32*(tau_1/tau))/D0\n",
    "B = (1/(6*D0))*(D12*(tau_3**2 - tau**2)*tau_3/tau + D32*(tau**2-tau_1**2)*tau_1/tau)\n",
    "\n",
    "#Constante E:\n",
    "E = dot_product(R2,versor_rho2)\n",
    "\n",
    "#Coeficientes do polnômio (r2)^8 + a(r2)^6 + b(r2)^3 + c:\n",
    "a = -(A**2 + 2*A*E + R2.magnitude**2)\n",
    "b = -2*EARTH_GRAVITATIONAL_PARAMETER*B*(A+E)\n",
    "c = -(EARTH_GRAVITATIONAL_PARAMETER*B)**2\n",
    "\n",
    "#Raízes do polinomio:\n",
    "coef = [c,0,0,b,0,0,a,0,1]\n",
    "roots = poly.polyroots(coef)\n",
    "\n",
    "#Identificação de r2 dentre as raízes:\n",
    "condition = (np.isreal(roots)) & (roots > 0)\n",
    "roots_filtered = roots[condition]\n",
    "r2_star = np.real(roots_filtered[0])\n",
    "\n",
    "#Cálculo dos rho's:\n",
    "rho1_mod = ((6*(D31*tau_1/tau_3 + D21*tau/tau_3)*r2_star**3 + EARTH_GRAVITATIONAL_PARAMETER*D31*(tau**2-tau_1**2)*tau_1/tau_3)/(6*r2_star**3 + EARTH_GRAVITATIONAL_PARAMETER*(tau**2-tau_3**2))-D11)/D0\n",
    "rho2_mod = A + EARTH_GRAVITATIONAL_PARAMETER*B/(r2_star**3)\n",
    "rho3_mod = ((6*(D13*tau_3/tau_1 - D23*tau/tau_1)*r2_star**3 + EARTH_GRAVITATIONAL_PARAMETER*D13*(tau**2-tau_3**2)*tau_3/tau_1)/(6*r2_star**3 + EARTH_GRAVITATIONAL_PARAMETER*(tau**2-tau_1**2))-D33)/D0\n",
    "rho1 = Vector(x = rho1_mod*versor_rho1.x, y = rho1_mod*versor_rho1.y, z = rho1_mod*versor_rho1.z)\n",
    "rho2 = Vector(x = rho2_mod*versor_rho2.x, y = rho2_mod*versor_rho2.y, z = rho2_mod*versor_rho2.z)\n",
    "rho3 = Vector(x = rho3_mod*versor_rho3.x, y = rho3_mod*versor_rho3.y, z = rho3_mod*versor_rho3.z)\n",
    "\n",
    "#Cálculo dos r's:\n",
    "r1 = R1 + rho1\n",
    "r2 = R2 + rho2\n",
    "r3 = R3 + rho3\n",
    "\n",
    "#Coeficientes de Lagrange:\n",
    "f1 = 1-0.5*EARTH_GRAVITATIONAL_PARAMETER*(tau_1**2)/(r2_star**3)\n",
    "f3 = 1-0.5*EARTH_GRAVITATIONAL_PARAMETER*(tau_3**2)/(r2_star**3)\n",
    "g1 = tau_1 - (1/6)*EARTH_GRAVITATIONAL_PARAMETER*(tau_1**3)/(r2_star**3)\n",
    "g3 = tau_3 - (1/6)*EARTH_GRAVITATIONAL_PARAMETER*(tau_3**3)/(r2_star**3)\n",
    "\n",
    "\n",
    "#Velocidade:\n",
    "v2 = (r3*f1 - r1*f3)*((f1*g3-f3*g1)**(-1))\n",
    "\n",
    "\n",
    "#Resultados:\n",
    "print('Origens das observações:')\n",
    "print(f'R1 = {round(R1.x,1)}I + ({round(R1.y,1)})J + ({round(R1.z,1)})K')\n",
    "print(f'R2 = {round(R2.x,1)}I + ({round(R2.y,1)})J + ({round(R2.z,1)})K')\n",
    "print(f'R3 = {round(R3.x,1)}I + ({round(R3.y,1)})J + ({round(R3.z,1)})K')\n",
    "print('-----------------')\n",
    "print('Versores rhos:')\n",
    "print(f'versor_rho1 = {round(versor_rho1.x,5)}I + ({round(versor_rho1.y,5)})J + ({round(versor_rho1.z,5)})K')\n",
    "print(f'versor_rho2 = {round(versor_rho2.x,5)}I + ({round(versor_rho2.y,5)})J + ({round(versor_rho2.z,5)})K')\n",
    "print(f'versor_rho3 = {round(versor_rho3.x,5)}I + ({round(versor_rho3.y,5)})J + ({round(versor_rho3.z,5)})K')\n",
    "print('-----------------')\n",
    "print('Intervalos temporais:')\n",
    "print(f'tau_1 = {tau_1}')\n",
    "print(f'tau_3 = {tau_3}')\n",
    "print(f'tau = {tau}')\n",
    "print('-----------------')\n",
    "print('Produtos vetoriais:')\n",
    "print(f'p1 = {round(p1.x,6)}I + ({round(p1.y,6)})J + ({round(p1.z,6)})K')\n",
    "print(f'p2 = {round(p2.x,6)}I + ({round(p2.y,6)})J + ({round(p2.z,6)})K')\n",
    "print(f'p3 = {round(p3.x,6)}I + ({round(p3.y,6)})J + ({round(p3.z,6)})K')\n",
    "print('-----------------')\n",
    "print('Constantes (Ds):')\n",
    "print(f'D0 = {D0}')\n",
    "print(f'D11 = {D11}     D12 = {D12}     D13 = {D13}')\n",
    "print(f'D21 = {D21}     D22 = {D22}     D23 = {D23}')\n",
    "print(f'D31 = {D31}     D32 = {D32}     D33 = {D33}')\n",
    "print('-----------------')\n",
    "print('Constantes A e B:')\n",
    "print(f'A = {A}')\n",
    "print(f'B = {B}')\n",
    "print('-----------------')\n",
    "print('Constantes E e módulo ao quadrado de R2:')\n",
    "print(f'E = {E}')\n",
    "print(f'R_2^2 = {R2.magnitude**2}')\n",
    "print('-----------------')\n",
    "print('Coeficientes do polinômio (r2^8 + a(r2)^6 + b(r2)^3 + c = 0):')\n",
    "print(f'a = {round(a/1e7,4)}e+7')\n",
    "print(f'b = {b}')\n",
    "print(f'c = {c}')\n",
    "print('-----------------')\n",
    "print('valor de r2:')\n",
    "print(f'r2 = {round(r2_star,1)}')\n",
    "print('-----------------')\n",
    "print('Módulos de rhos:')\n",
    "print(f'rho_1 = {round(rho1_mod,1)}')\n",
    "print(f'rho_2 = {round(rho2_mod,1)}')\n",
    "print(f'rho_3 = {round(rho3_mod,1)}')\n",
    "print('-----------------')\n",
    "print('Vetores posição no Ref. Inercial:')\n",
    "print(f'r1 = {round(r1.x,1)}I + ({round(r1.y,1)})J + ({round(r1.z,1)})K')\n",
    "print(f'r2 = {round(r2.x,1)}I + ({round(r2.y,1)})J + ({round(r2.z,1)})K')\n",
    "print(f'r3 = {round(r3.x,1)}I + ({round(r3.y,1)})J + ({round(r3.z,1)})K')\n",
    "print('-----------------')\n",
    "print('Coeficientes de Lagrange:')\n",
    "print(f'f1 = {round(f1,5)}      g1 = {round(g1,5)}')\n",
    "print(f'f3 = {round(f3,5)}      g3 = {round(g3,5)}')\n",
    "print('-----------------')\n",
    "print('Velocidade (v2):')\n",
    "print(f'v2 = {round(v2.x,4)}I + ({round(v2.y,4)})J + ({round(v2.z,4)})K')\n",
    "\n"
   ]
  },
  {
   "cell_type": "code",
   "execution_count": 5,
   "metadata": {},
   "outputs": [
    {
     "data": {
      "text/plain": [
       "11.999999999999998"
      ]
     },
     "execution_count": 5,
     "metadata": {},
     "output_type": "execute_result"
    }
   ],
   "source": [
    "a = Vector(1,1,1)\n",
    "b = a*2\n",
    "b.magnitude**2"
   ]
  }
 ],
 "metadata": {
  "kernelspec": {
   "display_name": ".venv",
   "language": "python",
   "name": "python3"
  },
  "language_info": {
   "codemirror_mode": {
    "name": "ipython",
    "version": 3
   },
   "file_extension": ".py",
   "mimetype": "text/x-python",
   "name": "python",
   "nbconvert_exporter": "python",
   "pygments_lexer": "ipython3",
   "version": "3.12.3"
  }
 },
 "nbformat": 4,
 "nbformat_minor": 2
}
